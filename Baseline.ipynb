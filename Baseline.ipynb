{
  "cells": [
    {
      "cell_type": "markdown",
      "metadata": {
        "id": "ps4pI5VH2aSe"
      },
      "source": [
        "# Data Loading"
      ]
    },
    {
      "cell_type": "code",
      "execution_count": null,
      "metadata": {
        "execution": {
          "iopub.execute_input": "2024-03-22T12:37:36.213216Z",
          "iopub.status.busy": "2024-03-22T12:37:36.212783Z",
          "iopub.status.idle": "2024-03-22T12:37:36.220485Z",
          "shell.execute_reply": "2024-03-22T12:37:36.219518Z",
          "shell.execute_reply.started": "2024-03-22T12:37:36.213188Z"
        },
        "id": "o71qZmsy2aSf",
        "trusted": true
      },
      "outputs": [],
      "source": [
        "import numpy as np\n",
        "import pandas as pd\n",
        "import os\n",
        "\n",
        "import tensorflow as tf\n",
        "from tensorflow.keras.layers import Permute,Dense,Flatten,Conv2D,Resizing,Rescaling,Input,Dropout,InputLayer,MaxPool2D,BatchNormalization,RandomContrast,RandomFlip,RandomRotation,MaxPooling2D,Activation,GlobalAveragePooling2D,Add,Embedding,LayerNormalization,MultiHeadAttention\n",
        "from tensorflow.keras.regularizers import L2\n",
        "from sklearn.metrics import confusion_matrix\n",
        "import matplotlib.pyplot as plt\n",
        "import cv2\n",
        "import seaborn as sns\n",
        "from tensorflow.keras import Model\n",
        "from tensorflow.keras.layers import Layer"
      ]
    },
    {
      "cell_type": "code",
      "execution_count": null,
      "metadata": {
        "execution": {
          "iopub.execute_input": "2024-03-22T12:37:37.228065Z",
          "iopub.status.busy": "2024-03-22T12:37:37.226984Z",
          "iopub.status.idle": "2024-03-22T12:37:37.232897Z",
          "shell.execute_reply": "2024-03-22T12:37:37.231622Z",
          "shell.execute_reply.started": "2024-03-22T12:37:37.228024Z"
        },
        "id": "JioegrRH2aSf",
        "trusted": true
      },
      "outputs": [],
      "source": [
        "train_directory='./dataset/train'\n",
        "val_directory=\"./dataset/test\"\n",
        "CLASS_NAMES=['angry','happy','sad']"
      ]
    },
    {
      "cell_type": "code",
      "execution_count": null,
      "metadata": {
        "execution": {
          "iopub.execute_input": "2024-03-22T12:37:38.340926Z",
          "iopub.status.busy": "2024-03-22T12:37:38.339976Z",
          "iopub.status.idle": "2024-03-22T12:37:38.345838Z",
          "shell.execute_reply": "2024-03-22T12:37:38.345015Z",
          "shell.execute_reply.started": "2024-03-22T12:37:38.34088Z"
        },
        "id": "r-aOX9TY2aSg",
        "trusted": true
      },
      "outputs": [],
      "source": [
        "CONFIGURATION = {\n",
        "    \"BATCH_SIZE\": 32,\n",
        "    \"IM_SIZE\": 256,\n",
        "}"
      ]
    },
    {
      "cell_type": "code",
      "execution_count": null,
      "metadata": {
        "execution": {
          "iopub.execute_input": "2024-03-22T12:37:39.264503Z",
          "iopub.status.busy": "2024-03-22T12:37:39.263912Z",
          "iopub.status.idle": "2024-03-22T12:37:43.949853Z",
          "shell.execute_reply": "2024-03-22T12:37:43.948975Z",
          "shell.execute_reply.started": "2024-03-22T12:37:39.264472Z"
        },
        "id": "iZM3KxaM2aSg",
        "trusted": true
      },
      "outputs": [],
      "source": [
        "train_dataset = tf.keras.utils.image_dataset_from_directory(\n",
        "    train_directory,\n",
        "    labels='inferred',\n",
        "    label_mode='int',\n",
        "    class_names=CLASS_NAMES,\n",
        "    color_mode='rgb',\n",
        "    batch_size=CONFIGURATION[\"BATCH_SIZE\"],\n",
        "    image_size=(CONFIGURATION[\"IM_SIZE\"], CONFIGURATION[\"IM_SIZE\"]),\n",
        "    shuffle=True,\n",
        "    seed=99\n",
        ")\n"
      ]
    },
    {
      "cell_type": "code",
      "execution_count": null,
      "metadata": {
        "execution": {
          "iopub.execute_input": "2024-03-22T12:37:50.155019Z",
          "iopub.status.busy": "2024-03-22T12:37:50.154229Z",
          "iopub.status.idle": "2024-03-22T12:37:51.865787Z",
          "shell.execute_reply": "2024-03-22T12:37:51.864722Z",
          "shell.execute_reply.started": "2024-03-22T12:37:50.154977Z"
        },
        "id": "_DFmXGCk2aSg",
        "trusted": true
      },
      "outputs": [],
      "source": [
        "val_dataset = tf.keras.utils.image_dataset_from_directory(\n",
        "    val_directory,\n",
        "    labels='inferred',\n",
        "    label_mode='int',\n",
        "    class_names=CLASS_NAMES,\n",
        "    color_mode='rgb',\n",
        "    batch_size=CONFIGURATION[\"BATCH_SIZE\"],\n",
        "    image_size=(CONFIGURATION[\"IM_SIZE\"], CONFIGURATION[\"IM_SIZE\"]),\n",
        "    shuffle=True,\n",
        "    seed=99\n",
        ")\n"
      ]
    },
    {
      "cell_type": "code",
      "execution_count": null,
      "metadata": {
        "execution": {
          "iopub.execute_input": "2024-03-22T12:37:53.644143Z",
          "iopub.status.busy": "2024-03-22T12:37:53.642922Z",
          "iopub.status.idle": "2024-03-22T12:37:53.651292Z",
          "shell.execute_reply": "2024-03-22T12:37:53.650131Z",
          "shell.execute_reply.started": "2024-03-22T12:37:53.644106Z"
        },
        "id": "61hQcgj42aSg",
        "trusted": true
      },
      "outputs": [],
      "source": [
        "CONFIGURATION = {\n",
        "    \"BATCH_SIZE\": 32,\n",
        "    \"IM_SIZE\": 256,\n",
        "    \"LEARNING_RATE\": 1e-3,\n",
        "    \"N_EPOCHS\": 5,\n",
        "    \"DROPOUT_RATE\": 0.0,\n",
        "    \"REGULARIZATION_RATE\": 0.0,\n",
        "    \"N_FILTERS\": 6,\n",
        "    \"KERNEL_SIZE\": 3,\n",
        "    \"N_STRIDES\": 1,\n",
        "    \"POOL_SIZE\": 2,\n",
        "    \"N_DENSE_1\": 1024,\n",
        "    \"N_DENSE_2\": 128,\n",
        "    \"NUM_CLASSES\": 3,\n",
        "    \"PATCH_SIZE\": 16,\n",
        "    \"PROJ_DIM\": 768,\n",
        "    \"CLASS_NAMES\": [\"angry\", \"happy\", \"sad\"],\n",
        "}"
      ]
    },
    {
      "cell_type": "code",
      "execution_count": null,
      "metadata": {
        "execution": {
          "iopub.execute_input": "2024-03-22T12:37:54.800526Z",
          "iopub.status.busy": "2024-03-22T12:37:54.800131Z",
          "iopub.status.idle": "2024-03-22T12:37:55.216275Z",
          "shell.execute_reply": "2024-03-22T12:37:55.215055Z",
          "shell.execute_reply.started": "2024-03-22T12:37:54.800495Z"
        },
        "id": "jKA0tcpQ2aSg",
        "trusted": true
      },
      "outputs": [],
      "source": [
        "train = tf.keras.utils.image_dataset_from_directory(\n",
        "    train_directory,\n",
        "    labels='inferred',\n",
        "    label_mode='categorical',\n",
        "    class_names=CONFIGURATION[\"CLASS_NAMES\"],\n",
        "    color_mode='rgb',\n",
        "    batch_size=CONFIGURATION[\"BATCH_SIZE\"],\n",
        "    image_size=(CONFIGURATION[\"IM_SIZE\"], CONFIGURATION[\"IM_SIZE\"]),\n",
        "    shuffle=True,\n",
        "    seed=99,\n",
        ")"
      ]
    },
    {
      "cell_type": "code",
      "execution_count": null,
      "metadata": {
        "execution": {
          "iopub.execute_input": "2024-03-22T12:37:56.015948Z",
          "iopub.status.busy": "2024-03-22T12:37:56.015545Z",
          "iopub.status.idle": "2024-03-22T12:37:56.198176Z",
          "shell.execute_reply": "2024-03-22T12:37:56.196957Z",
          "shell.execute_reply.started": "2024-03-22T12:37:56.015912Z"
        },
        "id": "EuHsSwEP2aSg",
        "trusted": true
      },
      "outputs": [],
      "source": [
        "val = tf.keras.utils.image_dataset_from_directory(\n",
        "    val_directory,\n",
        "    labels='inferred',\n",
        "    label_mode='categorical',\n",
        "    class_names=CONFIGURATION[\"CLASS_NAMES\"],\n",
        "    color_mode='rgb',\n",
        "    batch_size=1,#CONFIGURATION[\"BATCH_SIZE\"],\n",
        "    image_size=(CONFIGURATION[\"IM_SIZE\"], CONFIGURATION[\"IM_SIZE\"]),\n",
        "    shuffle=True,\n",
        "    seed=99,\n",
        ")"
      ]
    },
    {
      "cell_type": "code",
      "execution_count": null,
      "metadata": {
        "execution": {
          "iopub.execute_input": "2024-03-22T12:37:57.892499Z",
          "iopub.status.busy": "2024-03-22T12:37:57.892048Z",
          "iopub.status.idle": "2024-03-22T12:37:58.310955Z",
          "shell.execute_reply": "2024-03-22T12:37:58.310149Z",
          "shell.execute_reply.started": "2024-03-22T12:37:57.892467Z"
        },
        "id": "3IcMJeni2aSh",
        "trusted": true
      },
      "outputs": [],
      "source": [
        "train_dataset = tf.keras.utils.image_dataset_from_directory(\n",
        "    train_directory,\n",
        "    labels='inferred',\n",
        "    label_mode='categorical',\n",
        "    class_names=CLASS_NAMES,\n",
        "    color_mode='rgb',\n",
        "    batch_size=CONFIGURATION[\"BATCH_SIZE\"],\n",
        "    image_size=(CONFIGURATION[\"IM_SIZE\"], CONFIGURATION[\"IM_SIZE\"]),\n",
        "    shuffle=True,\n",
        "    seed=99\n",
        ")\n"
      ]
    },
    {
      "cell_type": "code",
      "execution_count": null,
      "metadata": {
        "execution": {
          "iopub.execute_input": "2024-03-22T12:37:58.884432Z",
          "iopub.status.busy": "2024-03-22T12:37:58.884018Z",
          "iopub.status.idle": "2024-03-22T12:37:59.060577Z",
          "shell.execute_reply": "2024-03-22T12:37:59.059381Z",
          "shell.execute_reply.started": "2024-03-22T12:37:58.884399Z"
        },
        "id": "nJTBHnce2aSh",
        "trusted": true
      },
      "outputs": [],
      "source": [
        "val_dataset = tf.keras.utils.image_dataset_from_directory(\n",
        "    val_directory,\n",
        "    labels='inferred',\n",
        "    label_mode='categorical',\n",
        "    class_names=CLASS_NAMES,\n",
        "    color_mode='rgb',\n",
        "    batch_size=CONFIGURATION[\"BATCH_SIZE\"],\n",
        "    image_size=(CONFIGURATION[\"IM_SIZE\"], CONFIGURATION[\"IM_SIZE\"]),\n",
        "    shuffle=True,\n",
        "    seed=99\n",
        ")"
      ]
    },
    {
      "cell_type": "markdown",
      "metadata": {
        "id": "lT9ca7rX2aSi"
      },
      "source": [
        "# Data Preparation"
      ]
    },
    {
      "cell_type": "code",
      "execution_count": null,
      "metadata": {
        "execution": {
          "iopub.execute_input": "2024-03-22T12:38:31.206326Z",
          "iopub.status.busy": "2024-03-22T12:38:31.205933Z",
          "iopub.status.idle": "2024-03-22T12:38:31.212942Z",
          "shell.execute_reply": "2024-03-22T12:38:31.211749Z",
          "shell.execute_reply.started": "2024-03-22T12:38:31.206296Z"
        },
        "id": "8UnEHE2M2aSi",
        "trusted": true
      },
      "outputs": [],
      "source": [
        "training_dataset = (\n",
        "        train_dataset\n",
        "        .prefetch(tf.data.AUTOTUNE)\n",
        ")"
      ]
    },
    {
      "cell_type": "code",
      "execution_count": null,
      "metadata": {
        "execution": {
          "iopub.execute_input": "2024-03-22T12:38:32.826043Z",
          "iopub.status.busy": "2024-03-22T12:38:32.825132Z",
          "iopub.status.idle": "2024-03-22T12:38:32.832219Z",
          "shell.execute_reply": "2024-03-22T12:38:32.831142Z",
          "shell.execute_reply.started": "2024-03-22T12:38:32.826008Z"
        },
        "id": "Dx61XN_b2aSi",
        "trusted": true
      },
      "outputs": [],
      "source": [
        "validation_dataset = (\n",
        "        val_dataset\n",
        "        .prefetch(tf.data.AUTOTUNE)\n",
        ")"
      ]
    },
    {
      "cell_type": "code",
      "execution_count": null,
      "metadata": {
        "execution": {
          "iopub.execute_input": "2024-03-22T12:38:36.28547Z",
          "iopub.status.busy": "2024-03-22T12:38:36.284947Z",
          "iopub.status.idle": "2024-03-22T12:38:36.293088Z",
          "shell.execute_reply": "2024-03-22T12:38:36.291776Z",
          "shell.execute_reply.started": "2024-03-22T12:38:36.285435Z"
        },
        "id": "pvAKRKnI2aSi",
        "trusted": true
      },
      "outputs": [],
      "source": [
        "resize_rescale_layers=tf.keras.Sequential([\n",
        "            Resizing(CONFIGURATION['IM_SIZE'],CONFIGURATION['IM_SIZE']),\n",
        "            Rescaling(1./255)\n",
        "])"
      ]
    },
    {
      "cell_type": "markdown",
      "metadata": {
        "id": "kqmUAjw22aSi"
      },
      "source": [
        "# Modelling"
      ]
    },
    {
      "cell_type": "code",
      "execution_count": null,
      "metadata": {
        "execution": {
          "iopub.execute_input": "2024-03-22T12:38:38.437846Z",
          "iopub.status.busy": "2024-03-22T12:38:38.437405Z",
          "iopub.status.idle": "2024-03-22T12:38:39.106092Z",
          "shell.execute_reply": "2024-03-22T12:38:39.104968Z",
          "shell.execute_reply.started": "2024-03-22T12:38:38.437813Z"
        },
        "id": "Zetj1Vkz2aSi",
        "trusted": true
      },
      "outputs": [],
      "source": [
        "lenet_model = tf.keras.Sequential(\n",
        "    [\n",
        "#     InputLayer(input_shape = (None, None, 3), ),\n",
        "\n",
        "#     resize_rescale_layers,\n",
        "    InputLayer (input_shape = (CONFIGURATION[\"IM_SIZE\"], CONFIGURATION[ \"IM_SIZE\"], 3)),\n",
        "    Rescaling(1./255, name = \"rescaling\"),\n",
        "\n",
        "    Conv2D(filters = CONFIGURATION[\"N_FILTERS\"] , kernel_size = CONFIGURATION[\"KERNEL_SIZE\"], strides = CONFIGURATION[\"N_STRIDES\"] , padding='valid',\n",
        "          activation = 'relu',kernel_regularizer = L2(CONFIGURATION[\"REGULARIZATION_RATE\"])),\n",
        "    BatchNormalization(),\n",
        "    MaxPool2D (pool_size = CONFIGURATION[\"POOL_SIZE\"], strides= CONFIGURATION[\"N_STRIDES\"]*2),\n",
        "    Dropout(rate = CONFIGURATION[\"DROPOUT_RATE\"] ),\n",
        "\n",
        "    Conv2D(filters = CONFIGURATION[\"N_FILTERS\"]*2 + 4, kernel_size = CONFIGURATION[\"KERNEL_SIZE\"], strides=CONFIGURATION[\"N_STRIDES\"], padding='valid',\n",
        "          activation = 'relu', kernel_regularizer = L2(CONFIGURATION[\"REGULARIZATION_RATE\"])),\n",
        "    BatchNormalization(),\n",
        "    MaxPool2D (pool_size = CONFIGURATION[\"POOL_SIZE\"], strides= CONFIGURATION[\"N_STRIDES\"]*2),\n",
        "\n",
        "    Flatten(),\n",
        "\n",
        "    Dense( CONFIGURATION[\"N_DENSE_1\"], activation = \"relu\", kernel_regularizer = L2(CONFIGURATION[\"REGULARIZATION_RATE\"])),\n",
        "    BatchNormalization(),\n",
        "    Dropout(rate = CONFIGURATION[\"DROPOUT_RATE\"]),\n",
        "\n",
        "    Dense( CONFIGURATION['N_DENSE_2'], activation = \"relu\", kernel_regularizer = L2(CONFIGURATION[\"REGULARIZATION_RATE\"])),\n",
        "    BatchNormalization(),\n",
        "\n",
        "    Dense(CONFIGURATION[\"NUM_CLASSES\"], activation = \"softmax\"),\n",
        "\n",
        "])\n",
        "\n",
        "lenet_model.summary()"
      ]
    },
    {
      "cell_type": "markdown",
      "metadata": {
        "id": "DK4B5xWr2aSj"
      },
      "source": [
        "# Training"
      ]
    },
    {
      "cell_type": "code",
      "execution_count": null,
      "metadata": {
        "execution": {
          "iopub.execute_input": "2024-03-22T12:38:41.345647Z",
          "iopub.status.busy": "2024-03-22T12:38:41.345164Z",
          "iopub.status.idle": "2024-03-22T12:38:41.350903Z",
          "shell.execute_reply": "2024-03-22T12:38:41.3497Z",
          "shell.execute_reply.started": "2024-03-22T12:38:41.34561Z"
        },
        "id": "TasTtoWO2aSj",
        "trusted": true
      },
      "outputs": [],
      "source": [
        "loss_function=tf.keras.losses.CategoricalCrossentropy()"
      ]
    },
    {
      "cell_type": "code",
      "execution_count": null,
      "metadata": {
        "execution": {
          "iopub.execute_input": "2024-03-22T12:38:42.809304Z",
          "iopub.status.busy": "2024-03-22T12:38:42.808776Z",
          "iopub.status.idle": "2024-03-22T12:38:42.82199Z",
          "shell.execute_reply": "2024-03-22T12:38:42.82059Z",
          "shell.execute_reply.started": "2024-03-22T12:38:42.80927Z"
        },
        "id": "31A1i5-J2aSj",
        "trusted": true
      },
      "outputs": [],
      "source": [
        "metrics=[tf.keras.metrics.CategoricalAccuracy(name='accuracy'),tf.keras.metrics.TopKCategoricalAccuracy(k=2,name='top_k_accurcay')]"
      ]
    },
    {
      "cell_type": "code",
      "execution_count": null,
      "metadata": {
        "execution": {
          "iopub.execute_input": "2024-03-22T12:38:43.776929Z",
          "iopub.status.busy": "2024-03-22T12:38:43.776504Z",
          "iopub.status.idle": "2024-03-22T12:38:43.787755Z",
          "shell.execute_reply": "2024-03-22T12:38:43.786415Z",
          "shell.execute_reply.started": "2024-03-22T12:38:43.776898Z"
        },
        "id": "eQDDb5yP2aSj",
        "trusted": true
      },
      "outputs": [],
      "source": [
        "lenet_model.compile(\n",
        "                    optimizer=tf.keras.optimizers.Adam(learning_rate=CONFIGURATION['LEARNING_RATE']),\n",
        "                    loss=loss_function,\n",
        "                    metrics=metrics\n",
        "                                    )"
      ]
    },
    {
      "cell_type": "code",
      "execution_count": null,
      "metadata": {
        "execution": {
          "iopub.execute_input": "2024-03-22T12:38:52.264563Z",
          "iopub.status.busy": "2024-03-22T12:38:52.264173Z",
          "iopub.status.idle": "2024-03-22T13:10:11.094604Z",
          "shell.execute_reply": "2024-03-22T13:10:11.093685Z",
          "shell.execute_reply.started": "2024-03-22T12:38:52.264535Z"
        },
        "id": "GY22aU192aSj",
        "trusted": true
      },
      "outputs": [],
      "source": [
        "history= lenet_model.fit(\n",
        "    training_dataset,\n",
        "    validation_data=val_dataset,\n",
        "    epochs=CONFIGURATION['N_EPOCHS'],\n",
        "    verbose=1)"
      ]
    },
    {
      "cell_type": "code",
      "execution_count": null,
      "metadata": {
        "execution": {
          "iopub.execute_input": "2024-03-22T13:10:43.981416Z",
          "iopub.status.busy": "2024-03-22T13:10:43.98097Z",
          "iopub.status.idle": "2024-03-22T13:10:44.275087Z",
          "shell.execute_reply": "2024-03-22T13:10:44.274166Z",
          "shell.execute_reply.started": "2024-03-22T13:10:43.981387Z"
        },
        "id": "boXiBCJH2aSj",
        "trusted": true
      },
      "outputs": [],
      "source": [
        "plt.plot(history.history['loss'])\n",
        "plt.plot(history.history['val_loss'])\n",
        "plt.title('Model_loss')\n",
        "plt.ylabel('loss')\n",
        "plt.xlabel('epoch')\n",
        "plt.legend(['train_loss','val_loss'])\n",
        "plt.show()"
      ]
    },
    {
      "cell_type": "code",
      "execution_count": null,
      "metadata": {
        "execution": {
          "iopub.execute_input": "2024-03-22T13:10:45.174538Z",
          "iopub.status.busy": "2024-03-22T13:10:45.174175Z",
          "iopub.status.idle": "2024-03-22T13:10:45.459181Z",
          "shell.execute_reply": "2024-03-22T13:10:45.458292Z",
          "shell.execute_reply.started": "2024-03-22T13:10:45.17451Z"
        },
        "id": "7K6LtjPP2aSj",
        "trusted": true
      },
      "outputs": [],
      "source": [
        "plt. plot (history. history['accuracy'])\n",
        "plt. plot(history.history[ 'val_accuracy'])\n",
        "plt. title( 'Model accuracy')\n",
        "plt. ylabel( 'accuracy')\n",
        "plt. xlabel( 'epoch')\n",
        "plt. legend(['train_accuracy', 'val_accuracy'])\n",
        "plt. show()"
      ]
    },
    {
      "cell_type": "markdown",
      "metadata": {
        "id": "uvHa4vNH2aSj"
      },
      "source": [
        "# Evalution"
      ]
    },
    {
      "cell_type": "code",
      "execution_count": null,
      "metadata": {
        "execution": {
          "iopub.execute_input": "2024-03-22T13:10:47.139953Z",
          "iopub.status.busy": "2024-03-22T13:10:47.139527Z",
          "iopub.status.idle": "2024-03-22T13:11:05.383374Z",
          "shell.execute_reply": "2024-03-22T13:11:05.382259Z",
          "shell.execute_reply.started": "2024-03-22T13:10:47.139904Z"
        },
        "id": "ADo7vVd52aSk",
        "trusted": true
      },
      "outputs": [],
      "source": [
        "lenet_model. evaluate(validation_dataset)"
      ]
    },
    {
      "cell_type": "markdown",
      "metadata": {
        "id": "k2qP_11e2aSk"
      },
      "source": [
        "# Testing"
      ]
    },
    {
      "cell_type": "code",
      "execution_count": null,
      "metadata": {
        "execution": {
          "iopub.execute_input": "2024-03-22T13:11:08.440496Z",
          "iopub.status.busy": "2024-03-22T13:11:08.440096Z",
          "iopub.status.idle": "2024-03-22T13:11:08.953452Z",
          "shell.execute_reply": "2024-03-22T13:11:08.952065Z",
          "shell.execute_reply.started": "2024-03-22T13:11:08.440463Z"
        },
        "id": "jPIciITO2aSk",
        "trusted": true
      },
      "outputs": [],
      "source": [
        "lenet_model = tf.keras.Sequential(\n",
        "    [\n",
        "    InputLayer(input_shape = (None, None, 3), ),\n",
        "\n",
        "    resize_rescale_layers,\n",
        "\n",
        "    Conv2D(filters = CONFIGURATION[\"N_FILTERS\"] , kernel_size = CONFIGURATION[\"KERNEL_SIZE\"], strides = CONFIGURATION[\"N_STRIDES\"] , padding='valid',\n",
        "          activation = 'relu',kernel_regularizer = L2(CONFIGURATION[\"REGULARIZATION_RATE\"])),\n",
        "    BatchNormalization(),\n",
        "    MaxPool2D (pool_size = CONFIGURATION[\"POOL_SIZE\"], strides= CONFIGURATION[\"N_STRIDES\"]*2),\n",
        "    Dropout(rate = CONFIGURATION[\"DROPOUT_RATE\"] ),\n",
        "\n",
        "    Conv2D(filters = CONFIGURATION[\"N_FILTERS\"]*2 + 4, kernel_size = CONFIGURATION[\"KERNEL_SIZE\"], strides=CONFIGURATION[\"N_STRIDES\"], padding='valid',\n",
        "          activation = 'relu', kernel_regularizer = L2(CONFIGURATION[\"REGULARIZATION_RATE\"])),\n",
        "    BatchNormalization(),\n",
        "    MaxPool2D (pool_size = CONFIGURATION[\"POOL_SIZE\"], strides= CONFIGURATION[\"N_STRIDES\"]*2),\n",
        "\n",
        "    Flatten(),\n",
        "\n",
        "    Dense( CONFIGURATION[\"N_DENSE_1\"], activation = \"relu\", kernel_regularizer = L2(CONFIGURATION[\"REGULARIZATION_RATE\"])),\n",
        "    BatchNormalization(),\n",
        "    Dropout(rate = CONFIGURATION[\"DROPOUT_RATE\"]),\n",
        "\n",
        "    Dense( CONFIGURATION['N_DENSE_2'], activation = \"relu\", kernel_regularizer = L2(CONFIGURATION[\"REGULARIZATION_RATE\"])),\n",
        "    BatchNormalization(),\n",
        "\n",
        "    Dense(CONFIGURATION[\"NUM_CLASSES\"], activation = \"softmax\"),\n",
        "\n",
        "])\n",
        "\n",
        "lenet_model.summary()"
      ]
    },
    {
      "cell_type": "code",
      "execution_count": null,
      "metadata": {
        "execution": {
          "iopub.execute_input": "2024-03-22T13:11:10.074329Z",
          "iopub.status.busy": "2024-03-22T13:11:10.073922Z",
          "iopub.status.idle": "2024-03-22T13:11:10.134618Z",
          "shell.execute_reply": "2024-03-22T13:11:10.13344Z",
          "shell.execute_reply.started": "2024-03-22T13:11:10.074299Z"
        },
        "id": "OxRQ2u_w2aSk",
        "trusted": true
      },
      "outputs": [],
      "source": [
        "test_image=cv2.imread('/kaggle/input/human-emotions-datasethes/Emotions Dataset/Emotions Dataset/train/happy/100711.jpg')\n",
        "im = tf. constant(test_image, dtype = tf.float32)\n",
        "im = tf. expand_dims (im, axis = 0)\n",
        "print(CLASS_NAMES[tf.argmax(lenet_model (im), axis = -1).numpy()[0]])"
      ]
    },
    {
      "cell_type": "code",
      "execution_count": null,
      "metadata": {
        "execution": {
          "iopub.execute_input": "2024-03-22T13:11:12.50294Z",
          "iopub.status.busy": "2024-03-22T13:11:12.502356Z",
          "iopub.status.idle": "2024-03-22T13:11:12.557621Z",
          "shell.execute_reply": "2024-03-22T13:11:12.556402Z",
          "shell.execute_reply.started": "2024-03-22T13:11:12.502907Z"
        },
        "id": "PSKpG0Sf2aSl",
        "trusted": true
      },
      "outputs": [],
      "source": [
        "CLASS_NAMES=['angry','happy','sad']\n",
        "test_image = cv2.imread('/kaggle/input/human-emotions-datasethes/Emotions Dataset/Emotions Dataset/train/happy/100711.jpg')\n",
        "\n",
        "im = tf.constant(test_image, dtype=tf.float32)\n",
        "im = tf.expand_dims(im, axis=0)\n",
        "\n",
        "predicted_class_index = tf.argmax(lenet_model(im), axis=-1).numpy()[0]\n",
        "predicted_class_name = CLASS_NAMES[predicted_class_index]\n",
        "print(predicted_class_name)\n"
      ]
    },
    {
      "cell_type": "code",
      "execution_count": null,
      "metadata": {
        "execution": {
          "iopub.execute_input": "2024-03-22T13:11:14.145347Z",
          "iopub.status.busy": "2024-03-22T13:11:14.14491Z",
          "iopub.status.idle": "2024-03-22T13:11:17.240333Z",
          "shell.execute_reply": "2024-03-22T13:11:17.23932Z",
          "shell.execute_reply.started": "2024-03-22T13:11:14.145316Z"
        },
        "id": "dp386qMz2aSm",
        "trusted": true
      },
      "outputs": [],
      "source": [
        "import cv2\n",
        "import matplotlib.pyplot as plt\n",
        "\n",
        "test_image = cv2.imread('/kaggle/input/human-emotions-datasethes/Emotions Dataset/Emotions Dataset/train/happy/100711.jpg')\n",
        "\n",
        "im = tf.constant(test_image, dtype=tf.float32)\n",
        "im = tf.expand_dims(im, axis=0)\n",
        "print(CLASS_NAMES[tf.argmax(lenet_model(im), axis=-1).numpy()[0]])\n",
        "\n",
        "plt.figure(figsize=(12, 12))\n",
        "\n",
        "for images, labels in validation_dataset.take(1):\n",
        "    for i in range(16):\n",
        "        ax = plt.subplot(4, 4, i + 1)\n",
        "        plt.imshow(images[i] / 255.)\n",
        "\n",
        "        plt.title(\"True Label - : \" + CONFIGURATION[\"CLASS_NAMES\"][tf.argmax(labels[i], axis=-1).numpy()] +\n",
        "                  \"\\n\" + \"Predicted Label - : \" +\n",
        "                  CONFIGURATION[\"CLASS_NAMES\"][int(tf.argmax(lenet_model(tf.expand_dims(images[i], axis=0)), axis=-1).numpy()[0])])\n",
        "        plt.axis(\"off\")\n"
      ]
    }
  ],
  "metadata": {
    "accelerator": "GPU",
    "colab": {
      "gpuType": "T4",
      "name": "Human Emotion Dataset Prediction Using Tensorlow",
      "provenance": []
    },
    "kaggle": {
      "accelerator": "none",
      "dataSources": [
        {
          "datasetId": 1830888,
          "sourceId": 2996867,
          "sourceType": "datasetVersion"
        },
        {
          "datasetId": 1028436,
          "sourceId": 1732825,
          "sourceType": "datasetVersion"
        },
        {
          "datasetId": 3851864,
          "sourceId": 6676302,
          "sourceType": "datasetVersion"
        },
        {
          "datasetId": 4403839,
          "sourceId": 7563141,
          "sourceType": "datasetVersion"
        },
        {
          "datasetId": 4379376,
          "sourceId": 7518255,
          "sourceType": "datasetVersion"
        },
        {
          "datasetId": 29561,
          "sourceId": 37705,
          "sourceType": "datasetVersion"
        },
        {
          "datasetId": 3119215,
          "sourceId": 5377440,
          "sourceType": "datasetVersion"
        }
      ],
      "isGpuEnabled": false,
      "isInternetEnabled": true,
      "language": "python",
      "sourceType": "notebook"
    },
    "kernelspec": {
      "display_name": "Python 3",
      "name": "python3"
    },
    "language_info": {
      "codemirror_mode": {
        "name": "ipython",
        "version": 3
      },
      "file_extension": ".py",
      "mimetype": "text/x-python",
      "name": "python",
      "nbconvert_exporter": "python",
      "pygments_lexer": "ipython3",
      "version": "3.9.6"
    }
  },
  "nbformat": 4,
  "nbformat_minor": 0
}
